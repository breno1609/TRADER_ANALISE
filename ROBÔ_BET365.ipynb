{
 "cells": [
  {
   "cell_type": "code",
   "execution_count": 24,
   "id": "b8e2512d",
   "metadata": {},
   "outputs": [],
   "source": [
    "# KNN\n",
    "vizinhos = 3"
   ]
  },
  {
   "cell_type": "code",
   "execution_count": 1,
   "id": "6013f3f0",
   "metadata": {},
   "outputs": [],
   "source": [
    "# Importando as Bibliotecas Básicas\n",
    "import pandas as pd\n",
    "import numpy as np\n",
    "import warnings\n",
    "warnings.filterwarnings('ignore')\n",
    "# Importando a Biblioteca do KNN\n",
    "from sklearn.neighbors import KNeighborsClassifier\n",
    "# Importando a Biblioteca de Acurácia, Matriz de Confusão (em quantos jogos entrou em quantos foi green ou red)\n",
    "from sklearn.metrics import accuracy_score, confusion_matrix\n",
    "# Importando a Biblioteca SkLearn para padronizar os dados (entre 0 e 1)\n",
    "from sklearn.preprocessing import StandardScaler\n",
    "# Importando a Biblioteca SkLearn para dividir os dados entre treinamento e teste\n",
    "from sklearn.model_selection import train_test_split"
   ]
  },
  {
   "cell_type": "code",
   "execution_count": 6,
   "id": "c390b6a7",
   "metadata": {},
   "outputs": [],
   "source": [
    "# Importando os DataFrames\n",
    "\n",
    "# England Premier League\n",
    "df_ENG1 = pd.read_excel('https://github.com/futpythontrader/YouTube/blob/main/England%20Premier%20League_20212022.xlsx?raw=true')\n",
    "# England Championship\n",
    "df_ENG2 = pd.read_excel('https://github.com/futpythontrader/YouTube/blob/main/England%20Championship_20212022.xlsx?raw=true')\n",
    "\n",
    "# France Ligue 1\n",
    "df_FRA1 = pd.read_excel('https://github.com/futpythontrader/YouTube/blob/main/France%20Ligue%201_20212022.xlsx?raw=true')\n",
    "# France Ligue 2\n",
    "df_FRA2 = pd.read_excel('https://github.com/futpythontrader/YouTube/blob/main/France%20Ligue%202_20212022.xlsx?raw=true')\n",
    "\n",
    "# Germany Bundesliga\n",
    "df_GER1 = pd.read_excel('https://github.com/futpythontrader/YouTube/blob/main/Germany%20Bundesliga_20212022.xlsx?raw=true')\n",
    "# Germany 2. Bundesliga\n",
    "df_GER2 = pd.read_excel('https://github.com/futpythontrader/YouTube/blob/main/Germany%202.%20Bundesliga_20212022.xlsx?raw=true')\n",
    "\n",
    "# Italy Serie A\n",
    "df_ITA1 = pd.read_excel('https://github.com/futpythontrader/YouTube/blob/main/Italy%20Serie%20A_20212022.xlsx?raw=true')\n",
    "# Italy Serie B\n",
    "df_ITA2 = pd.read_excel('https://github.com/futpythontrader/YouTube/blob/main/Italy%20Serie%20B_20212022.xlsx?raw=true')\n",
    "\n",
    "# Spain La Liga\n",
    "df_SPA1 = pd.read_excel('https://github.com/futpythontrader/YouTube/blob/main/Spain%20La%20Liga_20212022.xlsx?raw=true')\n",
    "# Spain Segunda División\n",
    "df_SPA2 = pd.read_excel('https://github.com/futpythontrader/YouTube/blob/main/Spain%20Segunda%20Divisi%C3%B3n_20212022.xlsx?raw=true')\n",
    "\n",
    "# Concatenando os DataFrames\n",
    "df = [df_ENG1,df_ENG2,df_FRA1,df_FRA2,df_GER1,df_GER2,df_ITA1,df_ITA1,df_SPA1,df_SPA2]\n",
    "df = pd.concat(df)\n",
    "df = df[['Home','Away','FT_Odds_H','FT_Odds_D','FT_Odds_A','FT_Odds_Over05','FT_Odds_Over15','FT_Odds_Over25','FT_Odds_BTTS_Yes','FT_Goals_H','FT_Goals_A']]"
   ]
  },
  {
   "cell_type": "code",
   "execution_count": 7,
   "id": "01307928",
   "metadata": {},
   "outputs": [],
   "source": [
    "# Criando a Coluna de 0 e 1 para análise do Modelo de Machine Learning\n",
    "df.loc[(df['FT_Goals_H'] > df['FT_Goals_A']), 'BackHome'] = 1\n",
    "df.loc[(df['FT_Goals_H'] <= df['FT_Goals_A']), 'BackHome'] = 0"
   ]
  },
  {
   "cell_type": "code",
   "execution_count": 8,
   "id": "b99496f8",
   "metadata": {},
   "outputs": [
    {
     "data": {
      "text/html": [
       "<div>\n",
       "<style scoped>\n",
       "    .dataframe tbody tr th:only-of-type {\n",
       "        vertical-align: middle;\n",
       "    }\n",
       "\n",
       "    .dataframe tbody tr th {\n",
       "        vertical-align: top;\n",
       "    }\n",
       "\n",
       "    .dataframe thead th {\n",
       "        text-align: right;\n",
       "    }\n",
       "</style>\n",
       "<table border=\"1\" class=\"dataframe\">\n",
       "  <thead>\n",
       "    <tr style=\"text-align: right;\">\n",
       "      <th></th>\n",
       "      <th>Home</th>\n",
       "      <th>Away</th>\n",
       "      <th>FT_Odds_H</th>\n",
       "      <th>FT_Odds_D</th>\n",
       "      <th>FT_Odds_A</th>\n",
       "      <th>FT_Odds_Over05</th>\n",
       "      <th>FT_Odds_Over15</th>\n",
       "      <th>FT_Odds_Over25</th>\n",
       "      <th>FT_Odds_BTTS_Yes</th>\n",
       "      <th>FT_Goals_H</th>\n",
       "      <th>FT_Goals_A</th>\n",
       "      <th>BackHome</th>\n",
       "    </tr>\n",
       "  </thead>\n",
       "  <tbody>\n",
       "    <tr>\n",
       "      <th>0</th>\n",
       "      <td>Brentford</td>\n",
       "      <td>Arsenal</td>\n",
       "      <td>3.90</td>\n",
       "      <td>3.40</td>\n",
       "      <td>2.05</td>\n",
       "      <td>1.11</td>\n",
       "      <td>1.43</td>\n",
       "      <td>2.20</td>\n",
       "      <td>1.95</td>\n",
       "      <td>2</td>\n",
       "      <td>0</td>\n",
       "      <td>1.0</td>\n",
       "    </tr>\n",
       "    <tr>\n",
       "      <th>1</th>\n",
       "      <td>Manchester United</td>\n",
       "      <td>Leeds United</td>\n",
       "      <td>1.62</td>\n",
       "      <td>4.15</td>\n",
       "      <td>5.25</td>\n",
       "      <td>1.06</td>\n",
       "      <td>1.25</td>\n",
       "      <td>1.69</td>\n",
       "      <td>1.71</td>\n",
       "      <td>5</td>\n",
       "      <td>1</td>\n",
       "      <td>1.0</td>\n",
       "    </tr>\n",
       "    <tr>\n",
       "      <th>2</th>\n",
       "      <td>Burnley</td>\n",
       "      <td>Brighton &amp; Hove Albion</td>\n",
       "      <td>3.20</td>\n",
       "      <td>3.00</td>\n",
       "      <td>2.31</td>\n",
       "      <td>1.14</td>\n",
       "      <td>1.43</td>\n",
       "      <td>2.35</td>\n",
       "      <td>2.10</td>\n",
       "      <td>1</td>\n",
       "      <td>2</td>\n",
       "      <td>0.0</td>\n",
       "    </tr>\n",
       "    <tr>\n",
       "      <th>3</th>\n",
       "      <td>Chelsea</td>\n",
       "      <td>Crystal Palace</td>\n",
       "      <td>1.27</td>\n",
       "      <td>5.40</td>\n",
       "      <td>9.40</td>\n",
       "      <td>1.09</td>\n",
       "      <td>1.40</td>\n",
       "      <td>1.67</td>\n",
       "      <td>2.65</td>\n",
       "      <td>3</td>\n",
       "      <td>0</td>\n",
       "      <td>1.0</td>\n",
       "    </tr>\n",
       "    <tr>\n",
       "      <th>4</th>\n",
       "      <td>Everton</td>\n",
       "      <td>Southampton</td>\n",
       "      <td>1.84</td>\n",
       "      <td>3.65</td>\n",
       "      <td>3.85</td>\n",
       "      <td>1.12</td>\n",
       "      <td>1.47</td>\n",
       "      <td>1.85</td>\n",
       "      <td>2.10</td>\n",
       "      <td>3</td>\n",
       "      <td>1</td>\n",
       "      <td>1.0</td>\n",
       "    </tr>\n",
       "    <tr>\n",
       "      <th>...</th>\n",
       "      <td>...</td>\n",
       "      <td>...</td>\n",
       "      <td>...</td>\n",
       "      <td>...</td>\n",
       "      <td>...</td>\n",
       "      <td>...</td>\n",
       "      <td>...</td>\n",
       "      <td>...</td>\n",
       "      <td>...</td>\n",
       "      <td>...</td>\n",
       "      <td>...</td>\n",
       "      <td>...</td>\n",
       "    </tr>\n",
       "    <tr>\n",
       "      <th>463</th>\n",
       "      <td>Girona FC</td>\n",
       "      <td>SD Eibar</td>\n",
       "      <td>2.25</td>\n",
       "      <td>3.25</td>\n",
       "      <td>3.15</td>\n",
       "      <td>1.08</td>\n",
       "      <td>1.40</td>\n",
       "      <td>2.12</td>\n",
       "      <td>1.91</td>\n",
       "      <td>0</td>\n",
       "      <td>1</td>\n",
       "      <td>0.0</td>\n",
       "    </tr>\n",
       "    <tr>\n",
       "      <th>464</th>\n",
       "      <td>UD Las Palmas</td>\n",
       "      <td>CD Tenerife</td>\n",
       "      <td>1.91</td>\n",
       "      <td>3.20</td>\n",
       "      <td>3.75</td>\n",
       "      <td>1.04</td>\n",
       "      <td>1.39</td>\n",
       "      <td>2.10</td>\n",
       "      <td>1.99</td>\n",
       "      <td>1</td>\n",
       "      <td>2</td>\n",
       "      <td>0.0</td>\n",
       "    </tr>\n",
       "    <tr>\n",
       "      <th>465</th>\n",
       "      <td>SD Eibar</td>\n",
       "      <td>Girona FC</td>\n",
       "      <td>2.37</td>\n",
       "      <td>3.25</td>\n",
       "      <td>3.15</td>\n",
       "      <td>1.08</td>\n",
       "      <td>1.40</td>\n",
       "      <td>2.20</td>\n",
       "      <td>1.91</td>\n",
       "      <td>0</td>\n",
       "      <td>2</td>\n",
       "      <td>0.0</td>\n",
       "    </tr>\n",
       "    <tr>\n",
       "      <th>466</th>\n",
       "      <td>Girona FC</td>\n",
       "      <td>CD Tenerife</td>\n",
       "      <td>2.10</td>\n",
       "      <td>3.20</td>\n",
       "      <td>3.85</td>\n",
       "      <td>1.11</td>\n",
       "      <td>1.53</td>\n",
       "      <td>2.35</td>\n",
       "      <td>2.10</td>\n",
       "      <td>0</td>\n",
       "      <td>0</td>\n",
       "      <td>0.0</td>\n",
       "    </tr>\n",
       "    <tr>\n",
       "      <th>467</th>\n",
       "      <td>CD Tenerife</td>\n",
       "      <td>Girona FC</td>\n",
       "      <td>2.20</td>\n",
       "      <td>2.92</td>\n",
       "      <td>2.82</td>\n",
       "      <td>1.11</td>\n",
       "      <td>1.62</td>\n",
       "      <td>2.60</td>\n",
       "      <td>2.15</td>\n",
       "      <td>1</td>\n",
       "      <td>3</td>\n",
       "      <td>0.0</td>\n",
       "    </tr>\n",
       "  </tbody>\n",
       "</table>\n",
       "<p>3919 rows × 12 columns</p>\n",
       "</div>"
      ],
      "text/plain": [
       "                  Home                    Away  FT_Odds_H  FT_Odds_D  \\\n",
       "0            Brentford                 Arsenal       3.90       3.40   \n",
       "1    Manchester United            Leeds United       1.62       4.15   \n",
       "2              Burnley  Brighton & Hove Albion       3.20       3.00   \n",
       "3              Chelsea          Crystal Palace       1.27       5.40   \n",
       "4              Everton             Southampton       1.84       3.65   \n",
       "..                 ...                     ...        ...        ...   \n",
       "463          Girona FC                SD Eibar       2.25       3.25   \n",
       "464      UD Las Palmas             CD Tenerife       1.91       3.20   \n",
       "465           SD Eibar               Girona FC       2.37       3.25   \n",
       "466          Girona FC             CD Tenerife       2.10       3.20   \n",
       "467        CD Tenerife               Girona FC       2.20       2.92   \n",
       "\n",
       "     FT_Odds_A  FT_Odds_Over05  FT_Odds_Over15  FT_Odds_Over25  \\\n",
       "0         2.05            1.11            1.43            2.20   \n",
       "1         5.25            1.06            1.25            1.69   \n",
       "2         2.31            1.14            1.43            2.35   \n",
       "3         9.40            1.09            1.40            1.67   \n",
       "4         3.85            1.12            1.47            1.85   \n",
       "..         ...             ...             ...             ...   \n",
       "463       3.15            1.08            1.40            2.12   \n",
       "464       3.75            1.04            1.39            2.10   \n",
       "465       3.15            1.08            1.40            2.20   \n",
       "466       3.85            1.11            1.53            2.35   \n",
       "467       2.82            1.11            1.62            2.60   \n",
       "\n",
       "     FT_Odds_BTTS_Yes  FT_Goals_H  FT_Goals_A  BackHome  \n",
       "0                1.95           2           0       1.0  \n",
       "1                1.71           5           1       1.0  \n",
       "2                2.10           1           2       0.0  \n",
       "3                2.65           3           0       1.0  \n",
       "4                2.10           3           1       1.0  \n",
       "..                ...         ...         ...       ...  \n",
       "463              1.91           0           1       0.0  \n",
       "464              1.99           1           2       0.0  \n",
       "465              1.91           0           2       0.0  \n",
       "466              2.10           0           0       0.0  \n",
       "467              2.15           1           3       0.0  \n",
       "\n",
       "[3919 rows x 12 columns]"
      ]
     },
     "execution_count": 8,
     "metadata": {},
     "output_type": "execute_result"
    }
   ],
   "source": [
    "df\n"
   ]
  },
  {
   "cell_type": "code",
   "execution_count": 9,
   "id": "adecdb74",
   "metadata": {},
   "outputs": [],
   "source": [
    "df1 = df[['Home','Away','FT_Odds_H','FT_Odds_D','FT_Odds_A','FT_Odds_Over05','FT_Odds_Over15','FT_Odds_Over25','FT_Odds_BTTS_Yes','BackHome']]\n",
    "df2 = df[['FT_Odds_H','FT_Odds_D','FT_Odds_A','FT_Odds_Over05','FT_Odds_Over15','FT_Odds_Over25','FT_Odds_BTTS_Yes','BackHome']]"
   ]
  },
  {
   "cell_type": "code",
   "execution_count": 10,
   "id": "1cf17df0",
   "metadata": {},
   "outputs": [],
   "source": [
    "df1 = df1.dropna()\n",
    "# convertendo os arrays (matriz)\n",
    "# definindo qual coluna é a entrada e qual é a saída\n",
    "df1_x = df1.iloc[:,0:10].values\n",
    "\n",
    "# separando os dados para treino e para teste\n",
    "x_dados_treinamento, x_dados_teste = train_test_split(df1_x, test_size=0.20, random_state = 0)\n",
    "\n",
    "df1 = pd.DataFrame(x_dados_teste)\n",
    "df1.columns = ['Home','Away','FT_Odds_H','FT_Odds_D','FT_Odds_A','FT_Odds_Over05','FT_Odds_Over15','FT_Odds_Over25','FT_Odds_BTTS_Yes','BackHome']"
   ]
  },
  {
   "cell_type": "code",
   "execution_count": 11,
   "id": "1b3b143e",
   "metadata": {},
   "outputs": [],
   "source": [
    "df2 = df2.dropna()\n",
    "# convertendo os arrays (matriz)\n",
    "# definindo qual coluna é a entrada e qual é a saída\n",
    "df2_x = df2.iloc[:,0:7].values\n",
    "df2_y = df2.iloc[:,7].values"
   ]
  },
  {
   "cell_type": "code",
   "execution_count": 13,
   "id": "a2caf097",
   "metadata": {},
   "outputs": [
    {
     "data": {
      "text/plain": [
       "array([[3.9 , 3.4 , 2.05, ..., 1.43, 2.2 , 1.95],\n",
       "       [1.62, 4.15, 5.25, ..., 1.25, 1.69, 1.71],\n",
       "       [3.2 , 3.  , 2.31, ..., 1.43, 2.35, 2.1 ],\n",
       "       ...,\n",
       "       [2.37, 3.25, 3.15, ..., 1.4 , 2.2 , 1.91],\n",
       "       [2.1 , 3.2 , 3.85, ..., 1.53, 2.35, 2.1 ],\n",
       "       [2.2 , 2.92, 2.82, ..., 1.62, 2.6 , 2.15]])"
      ]
     },
     "execution_count": 13,
     "metadata": {},
     "output_type": "execute_result"
    }
   ],
   "source": [
    "df2_x"
   ]
  },
  {
   "cell_type": "code",
   "execution_count": 15,
   "id": "2bde8082",
   "metadata": {},
   "outputs": [
    {
     "data": {
      "text/plain": [
       "array([1., 1., 0., ..., 0., 0., 0.])"
      ]
     },
     "execution_count": 15,
     "metadata": {},
     "output_type": "execute_result"
    }
   ],
   "source": [
    "df2_y"
   ]
  },
  {
   "cell_type": "code",
   "execution_count": 16,
   "id": "1462741a",
   "metadata": {},
   "outputs": [],
   "source": [
    "# padronizando os dados de entrada\n",
    "scaler_goals = StandardScaler()\n",
    "df2_x = scaler_goals.fit_transform(df2_x)"
   ]
  },
  {
   "cell_type": "code",
   "execution_count": 17,
   "id": "3414fc59",
   "metadata": {},
   "outputs": [],
   "source": [
    "# separando os dados para treino e para teste\n",
    "x_dados_treinamento, x_dados_teste, y_dados_treinamento, y_dados_teste = train_test_split(df2_x, df2_y, test_size=0.20, random_state = 0)"
   ]
  },
  {
   "cell_type": "code",
   "execution_count": 25,
   "id": "8b7a858f",
   "metadata": {},
   "outputs": [
    {
     "data": {
      "text/plain": [
       "KNeighborsClassifier(n_neighbors=3)"
      ]
     },
     "execution_count": 25,
     "metadata": {},
     "output_type": "execute_result"
    }
   ],
   "source": [
    "# Definições de Parâmetros e dados de entrada e resultado para treinamento\n",
    "knn_dados = KNeighborsClassifier(n_neighbors=vizinhos, metric=\"minkowski\", p=2)\n",
    "knn_dados.fit(x_dados_treinamento, y_dados_treinamento)"
   ]
  },
  {
   "cell_type": "code",
   "execution_count": 26,
   "id": "0fd849a0",
   "metadata": {},
   "outputs": [],
   "source": [
    "# Previsões\n",
    "previsoes_knn = knn_dados.predict(x_dados_teste)"
   ]
  },
  {
   "cell_type": "code",
   "execution_count": 27,
   "id": "c6611bef",
   "metadata": {},
   "outputs": [
    {
     "data": {
      "text/plain": [
       "0.6301020408163265"
      ]
     },
     "execution_count": 27,
     "metadata": {},
     "output_type": "execute_result"
    }
   ],
   "source": [
    "# taxa de acerto\n",
    "accuracy_score(y_dados_teste, previsoes_knn)"
   ]
  },
  {
   "cell_type": "code",
   "execution_count": 28,
   "id": "bf02a3ee",
   "metadata": {},
   "outputs": [
    {
     "data": {
      "text/plain": [
       "array([[312, 125],\n",
       "       [165, 182]], dtype=int64)"
      ]
     },
     "execution_count": 28,
     "metadata": {},
     "output_type": "execute_result"
    }
   ],
   "source": [
    "# matriz de confusão\n",
    "confusion_matrix(y_dados_teste, previsoes_knn)\n",
    "# a11 = coisas que ele preveu como sendo 0 e foi 0 (312 jogos ele preveu que não seria H e não foi H) \n",
    "# a21 = coisas que ele preveu como sendo 0 e foi 1 (165 jogos ele preveu que não seria H e foi H)\n",
    "# a12 = coisas que ele preveu como sendo 1 e foi 0 (125 jogos ele preveu que seria H e não foi H)\n",
    "# a22 = coisas que ele preveu como sendo 1 e foi 1 (182 jogos ele preveu que seria H e foi H)"
   ]
  },
  {
   "cell_type": "code",
   "execution_count": 29,
   "id": "7e93349b",
   "metadata": {},
   "outputs": [
    {
     "data": {
      "text/plain": [
       "784"
      ]
     },
     "execution_count": 29,
     "metadata": {},
     "output_type": "execute_result"
    }
   ],
   "source": [
    "# jogos totais usados para teste\n",
    "jogos_total_teste = confusion_matrix(y_dados_teste, previsoes_knn)[0][0]+confusion_matrix(y_dados_teste, previsoes_knn)[0][1]+confusion_matrix(y_dados_teste, previsoes_knn)[1][0]++confusion_matrix(y_dados_teste, previsoes_knn)[1][1]\n",
    "jogos_total_teste"
   ]
  },
  {
   "cell_type": "code",
   "execution_count": 30,
   "id": "6ae8dfdd",
   "metadata": {},
   "outputs": [
    {
     "data": {
      "text/plain": [
       "307"
      ]
     },
     "execution_count": 30,
     "metadata": {},
     "output_type": "execute_result"
    }
   ],
   "source": [
    "# quantidade total de entrada\n",
    "jogos_entrada = confusion_matrix(y_dados_teste, previsoes_knn)[0][1]+confusion_matrix(y_dados_teste, previsoes_knn)[1][1]\n",
    "jogos_entrada"
   ]
  },
  {
   "cell_type": "code",
   "execution_count": 32,
   "id": "05f00d61",
   "metadata": {},
   "outputs": [
    {
     "data": {
      "text/plain": [
       "39.15816326530612"
      ]
     },
     "execution_count": 32,
     "metadata": {},
     "output_type": "execute_result"
    }
   ],
   "source": [
    "# calculando a taxa de entrada\n",
    "taxa_de_entrada = (jogos_entrada/jogos_total_teste)*100\n",
    "taxa_de_entrada"
   ]
  },
  {
   "cell_type": "code",
   "execution_count": 33,
   "id": "67b30188",
   "metadata": {},
   "outputs": [
    {
     "data": {
      "text/plain": [
       "59.28338762214984"
      ]
     },
     "execution_count": 33,
     "metadata": {},
     "output_type": "execute_result"
    }
   ],
   "source": [
    "# calculando a taxa de acerto\n",
    "taxa_de_acerto = (confusion_matrix(y_dados_teste, previsoes_knn)[1][1]/jogos_entrada)*100\n",
    "taxa_de_acerto"
   ]
  },
  {
   "cell_type": "code",
   "execution_count": 34,
   "id": "b7c4b9e7",
   "metadata": {},
   "outputs": [],
   "source": [
    "df1[\"Previsões\"] = previsoes_knn"
   ]
  },
  {
   "cell_type": "code",
   "execution_count": 35,
   "id": "7885f893",
   "metadata": {},
   "outputs": [
    {
     "data": {
      "text/plain": [
       "Nº\n",
       "307    22.3\n",
       "Name: Profit_acu, dtype: object"
      ]
     },
     "execution_count": 35,
     "metadata": {},
     "output_type": "execute_result"
    }
   ],
   "source": [
    "stake = 1\n",
    "win_Back = stake * (df1.FT_Odds_H - 1)\n",
    "lose_Back = -stake\n",
    "\n",
    "df1.loc[(df1['Previsões'] == 1) & (df1['BackHome'] == 1), 'Profit'] = win_Back\n",
    "df1.loc[(df1['Previsões'] == 1) & (df1['BackHome'] == 0), 'Profit'] = lose_Back\n",
    "df1.loc[(df1['Previsões'] == 0) & (df1['BackHome'] == 1), 'Profit'] = 0\n",
    "df1.loc[(df1['Previsões'] == 0) & (df1['BackHome'] == 0), 'Profit'] = 0\n",
    "\n",
    "filtro = df1.Previsões == 1\n",
    "df0 = df1[filtro]\n",
    "\n",
    "# Ajustando o Índice\n",
    "df0.reset_index(inplace=True, drop=True)\n",
    "df0.index = df0.index.set_names(['Nº'])\n",
    "df0 = df0.rename(index=lambda x: x + 1)\n",
    "\n",
    "df0['Profit_acu'] = df0.Profit.cumsum()\n",
    "df0.Profit_acu.plot()\n",
    "df0.Profit_acu.tail(1)"
   ]
  },
  {
   "cell_type": "code",
   "execution_count": 36,
   "id": "11789411",
   "metadata": {},
   "outputs": [
    {
     "data": {
      "text/plain": [
       "Nº\n",
       "307    7.263844\n",
       "Name: Profit_acu, dtype: object"
      ]
     },
     "execution_count": 36,
     "metadata": {},
     "output_type": "execute_result"
    }
   ],
   "source": [
    "ROI = df0.Profit_acu.tail(1)/len(df0)*100\n",
    "ROI"
   ]
  },
  {
   "cell_type": "code",
   "execution_count": 37,
   "id": "94c93780",
   "metadata": {},
   "outputs": [
    {
     "name": "stdout",
     "output_type": "stream",
     "text": [
      "Digite a Odd do Mandante: 2.50\n",
      "Digite a Odd do Visitante: 3.40\n",
      "Digite a Odd do Empate: 2.62\n",
      "Digite a Odd do Over05: 1.16\n",
      "Digite a Odd do Over15: 1.61\n",
      "Digite a Odd do Over25: 3.00\n",
      "Digite a Odd do BTTS: 2.50\n",
      "\n",
      "Fazer Back Mandante\n"
     ]
    }
   ],
   "source": [
    "# Verificando um Jogo Específico\n",
    "FT_Odds_H = input(\"Digite a Odd do Mandante: \")\n",
    "FT_Odds_A = input(\"Digite a Odd do Visitante: \")\n",
    "FT_Odds_D = input(\"Digite a Odd do Empate: \")\n",
    "FT_Odds_Over05 = input(\"Digite a Odd do Over05: \")\n",
    "FT_Odds_Over15 = input(\"Digite a Odd do Over15: \")\n",
    "FT_Odds_Over25 = input(\"Digite a Odd do Over25: \")\n",
    "FT_Odds_BTTS_Yes = input(\"Digite a Odd do BTTS: \")\n",
    "\n",
    "Odds = [FT_Odds_H,FT_Odds_A,FT_Odds_D,FT_Odds_Over05,FT_Odds_Over15,FT_Odds_Over25,FT_Odds_BTTS_Yes]\n",
    "\n",
    "# Transformando a Lista em uma Matriz\n",
    "odds_jogo = np.array(Odds)\n",
    "\n",
    "previsao_jogo_knn = odds_jogo.reshape(1, -1)\n",
    "previsao_jogo_knn = knn_dados.predict(previsao_jogo_knn)\n",
    "\n",
    "if previsao_jogo_knn == 1:\n",
    "  print('');print(\"Fazer Back Mandante\")\n",
    "else:\n",
    "  print('');print(\"Ficar de Fora desse jogo\")    "
   ]
  },
  {
   "cell_type": "code",
   "execution_count": null,
   "id": "2fa9ef77",
   "metadata": {},
   "outputs": [],
   "source": []
  }
 ],
 "metadata": {
  "kernelspec": {
   "display_name": "Python 3",
   "language": "python",
   "name": "python3"
  },
  "language_info": {
   "codemirror_mode": {
    "name": "ipython",
    "version": 3
   },
   "file_extension": ".py",
   "mimetype": "text/x-python",
   "name": "python",
   "nbconvert_exporter": "python",
   "pygments_lexer": "ipython3",
   "version": "3.9.12"
  }
 },
 "nbformat": 4,
 "nbformat_minor": 5
}
